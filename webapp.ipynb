{
 "cells": [
  {
   "cell_type": "code",
   "execution_count": 1,
   "id": "67003cb2",
   "metadata": {},
   "outputs": [
    {
     "name": "stdout",
     "output_type": "stream",
     "text": [
      "Collecting pandas_datareader\n",
      "  Downloading pandas_datareader-0.10.0-py3-none-any.whl (109 kB)\n",
      "     -------------------------------------- 109.5/109.5 kB 1.1 MB/s eta 0:00:00\n",
      "Collecting lxml\n",
      "  Downloading lxml-4.9.1-cp310-cp310-win_amd64.whl (3.6 MB)\n",
      "     ---------------------------------------- 3.6/3.6 MB 2.0 MB/s eta 0:00:00\n",
      "Requirement already satisfied: requests>=2.19.0 in c:\\users\\masam\\appdata\\local\\programs\\python\\python310\\lib\\site-packages (from pandas_datareader) (2.28.1)\n",
      "Requirement already satisfied: pandas>=0.23 in c:\\users\\masam\\appdata\\local\\programs\\python\\python310\\lib\\site-packages (from pandas_datareader) (1.5.1)\n",
      "Requirement already satisfied: numpy>=1.21.0 in c:\\users\\masam\\appdata\\local\\programs\\python\\python310\\lib\\site-packages (from pandas>=0.23->pandas_datareader) (1.23.3)\n",
      "Requirement already satisfied: pytz>=2020.1 in c:\\users\\masam\\appdata\\local\\programs\\python\\python310\\lib\\site-packages (from pandas>=0.23->pandas_datareader) (2022.4)\n",
      "Requirement already satisfied: python-dateutil>=2.8.1 in c:\\users\\masam\\appdata\\local\\programs\\python\\python310\\lib\\site-packages (from pandas>=0.23->pandas_datareader) (2.8.2)\n",
      "Requirement already satisfied: charset-normalizer<3,>=2 in c:\\users\\masam\\appdata\\local\\programs\\python\\python310\\lib\\site-packages (from requests>=2.19.0->pandas_datareader) (2.1.1)\n",
      "Requirement already satisfied: idna<4,>=2.5 in c:\\users\\masam\\appdata\\local\\programs\\python\\python310\\lib\\site-packages (from requests>=2.19.0->pandas_datareader) (3.4)\n",
      "Requirement already satisfied: certifi>=2017.4.17 in c:\\users\\masam\\appdata\\local\\programs\\python\\python310\\lib\\site-packages (from requests>=2.19.0->pandas_datareader) (2022.9.24)\n",
      "Requirement already satisfied: urllib3<1.27,>=1.21.1 in c:\\users\\masam\\appdata\\local\\programs\\python\\python310\\lib\\site-packages (from requests>=2.19.0->pandas_datareader) (1.26.12)\n",
      "Requirement already satisfied: six>=1.5 in c:\\users\\masam\\appdata\\local\\programs\\python\\python310\\lib\\site-packages (from python-dateutil>=2.8.1->pandas>=0.23->pandas_datareader) (1.16.0)\n",
      "Installing collected packages: lxml, pandas_datareader\n",
      "Successfully installed lxml-4.9.1 pandas_datareader-0.10.0\n"
     ]
    },
    {
     "name": "stderr",
     "output_type": "stream",
     "text": [
      "\n",
      "[notice] A new release of pip available: 22.3 -> 22.3.1\n",
      "[notice] To update, run: C:\\Users\\masam\\AppData\\Local\\Programs\\Python\\Python310\\python.exe -m pip install --upgrade pip\n"
     ]
    }
   ],
   "source": [
    "!pip install pandas_datareader\n",
    "import numpy as np\n",
    "import pandas as pd\n",
    "import matplotlib.pyplot as plt\n",
    "import pandas_datareader as data"
   ]
  },
  {
   "cell_type": "code",
   "execution_count": 5,
   "id": "c4d4b0bc",
   "metadata": {},
   "outputs": [
    {
     "data": {
      "text/html": [
       "<div>\n",
       "<style scoped>\n",
       "    .dataframe tbody tr th:only-of-type {\n",
       "        vertical-align: middle;\n",
       "    }\n",
       "\n",
       "    .dataframe tbody tr th {\n",
       "        vertical-align: top;\n",
       "    }\n",
       "\n",
       "    .dataframe thead th {\n",
       "        text-align: right;\n",
       "    }\n",
       "</style>\n",
       "<table border=\"1\" class=\"dataframe\">\n",
       "  <thead>\n",
       "    <tr style=\"text-align: right;\">\n",
       "      <th></th>\n",
       "      <th>High</th>\n",
       "      <th>Low</th>\n",
       "      <th>Open</th>\n",
       "      <th>Close</th>\n",
       "      <th>Volume</th>\n",
       "      <th>Adj Close</th>\n",
       "    </tr>\n",
       "    <tr>\n",
       "      <th>Date</th>\n",
       "      <th></th>\n",
       "      <th></th>\n",
       "      <th></th>\n",
       "      <th></th>\n",
       "      <th></th>\n",
       "      <th></th>\n",
       "    </tr>\n",
       "  </thead>\n",
       "  <tbody>\n",
       "    <tr>\n",
       "      <th>2021-12-27</th>\n",
       "      <td>180.419998</td>\n",
       "      <td>177.070007</td>\n",
       "      <td>177.089996</td>\n",
       "      <td>180.330002</td>\n",
       "      <td>74919600.0</td>\n",
       "      <td>179.289444</td>\n",
       "    </tr>\n",
       "    <tr>\n",
       "      <th>2021-12-28</th>\n",
       "      <td>181.330002</td>\n",
       "      <td>178.529999</td>\n",
       "      <td>180.160004</td>\n",
       "      <td>179.289993</td>\n",
       "      <td>79144300.0</td>\n",
       "      <td>178.255432</td>\n",
       "    </tr>\n",
       "    <tr>\n",
       "      <th>2021-12-29</th>\n",
       "      <td>180.630005</td>\n",
       "      <td>178.139999</td>\n",
       "      <td>179.330002</td>\n",
       "      <td>179.380005</td>\n",
       "      <td>62348900.0</td>\n",
       "      <td>178.344925</td>\n",
       "    </tr>\n",
       "    <tr>\n",
       "      <th>2021-12-30</th>\n",
       "      <td>180.570007</td>\n",
       "      <td>178.089996</td>\n",
       "      <td>179.470001</td>\n",
       "      <td>178.199997</td>\n",
       "      <td>59773000.0</td>\n",
       "      <td>177.171738</td>\n",
       "    </tr>\n",
       "    <tr>\n",
       "      <th>2021-12-31</th>\n",
       "      <td>179.229996</td>\n",
       "      <td>177.259995</td>\n",
       "      <td>178.089996</td>\n",
       "      <td>177.570007</td>\n",
       "      <td>64062300.0</td>\n",
       "      <td>176.545364</td>\n",
       "    </tr>\n",
       "  </tbody>\n",
       "</table>\n",
       "</div>"
      ],
      "text/plain": [
       "                  High         Low        Open       Close      Volume  \\\n",
       "Date                                                                     \n",
       "2021-12-27  180.419998  177.070007  177.089996  180.330002  74919600.0   \n",
       "2021-12-28  181.330002  178.529999  180.160004  179.289993  79144300.0   \n",
       "2021-12-29  180.630005  178.139999  179.330002  179.380005  62348900.0   \n",
       "2021-12-30  180.570007  178.089996  179.470001  178.199997  59773000.0   \n",
       "2021-12-31  179.229996  177.259995  178.089996  177.570007  64062300.0   \n",
       "\n",
       "             Adj Close  \n",
       "Date                    \n",
       "2021-12-27  179.289444  \n",
       "2021-12-28  178.255432  \n",
       "2021-12-29  178.344925  \n",
       "2021-12-30  177.171738  \n",
       "2021-12-31  176.545364  "
      ]
     },
     "execution_count": 5,
     "metadata": {},
     "output_type": "execute_result"
    }
   ],
   "source": [
    "import numpy as np\n",
    "import pandas as pd\n",
    "import matplotlib.pyplot as plt\n",
    "import pandas_datareader as data\n",
    "\n",
    "start='2011-01-01'\n",
    "end='2021-12-31'\n",
    "df=data.DataReader('AAPL','yahoo',start,end)\n",
    "df.head()\n",
    "df.tail()\n"
   ]
  },
  {
   "cell_type": "code",
   "execution_count": 6,
   "id": "a211bcfb",
   "metadata": {},
   "outputs": [
    {
     "data": {
      "text/html": [
       "<div>\n",
       "<style scoped>\n",
       "    .dataframe tbody tr th:only-of-type {\n",
       "        vertical-align: middle;\n",
       "    }\n",
       "\n",
       "    .dataframe tbody tr th {\n",
       "        vertical-align: top;\n",
       "    }\n",
       "\n",
       "    .dataframe thead th {\n",
       "        text-align: right;\n",
       "    }\n",
       "</style>\n",
       "<table border=\"1\" class=\"dataframe\">\n",
       "  <thead>\n",
       "    <tr style=\"text-align: right;\">\n",
       "      <th></th>\n",
       "      <th>Date</th>\n",
       "      <th>High</th>\n",
       "      <th>Low</th>\n",
       "      <th>Open</th>\n",
       "      <th>Close</th>\n",
       "      <th>Volume</th>\n",
       "      <th>Adj Close</th>\n",
       "    </tr>\n",
       "  </thead>\n",
       "  <tbody>\n",
       "    <tr>\n",
       "      <th>0</th>\n",
       "      <td>2010-12-31</td>\n",
       "      <td>11.552857</td>\n",
       "      <td>11.475357</td>\n",
       "      <td>11.533929</td>\n",
       "      <td>11.520000</td>\n",
       "      <td>193508000.0</td>\n",
       "      <td>9.819855</td>\n",
       "    </tr>\n",
       "    <tr>\n",
       "      <th>1</th>\n",
       "      <td>2011-01-03</td>\n",
       "      <td>11.795000</td>\n",
       "      <td>11.601429</td>\n",
       "      <td>11.630000</td>\n",
       "      <td>11.770357</td>\n",
       "      <td>445138400.0</td>\n",
       "      <td>10.033261</td>\n",
       "    </tr>\n",
       "    <tr>\n",
       "      <th>2</th>\n",
       "      <td>2011-01-04</td>\n",
       "      <td>11.875000</td>\n",
       "      <td>11.719643</td>\n",
       "      <td>11.872857</td>\n",
       "      <td>11.831786</td>\n",
       "      <td>309080800.0</td>\n",
       "      <td>10.085626</td>\n",
       "    </tr>\n",
       "    <tr>\n",
       "      <th>3</th>\n",
       "      <td>2011-01-05</td>\n",
       "      <td>11.940714</td>\n",
       "      <td>11.767857</td>\n",
       "      <td>11.769643</td>\n",
       "      <td>11.928571</td>\n",
       "      <td>255519600.0</td>\n",
       "      <td>10.168130</td>\n",
       "    </tr>\n",
       "    <tr>\n",
       "      <th>4</th>\n",
       "      <td>2011-01-06</td>\n",
       "      <td>11.973214</td>\n",
       "      <td>11.889286</td>\n",
       "      <td>11.954286</td>\n",
       "      <td>11.918929</td>\n",
       "      <td>300428800.0</td>\n",
       "      <td>10.159912</td>\n",
       "    </tr>\n",
       "  </tbody>\n",
       "</table>\n",
       "</div>"
      ],
      "text/plain": [
       "        Date       High        Low       Open      Close       Volume  \\\n",
       "0 2010-12-31  11.552857  11.475357  11.533929  11.520000  193508000.0   \n",
       "1 2011-01-03  11.795000  11.601429  11.630000  11.770357  445138400.0   \n",
       "2 2011-01-04  11.875000  11.719643  11.872857  11.831786  309080800.0   \n",
       "3 2011-01-05  11.940714  11.767857  11.769643  11.928571  255519600.0   \n",
       "4 2011-01-06  11.973214  11.889286  11.954286  11.918929  300428800.0   \n",
       "\n",
       "   Adj Close  \n",
       "0   9.819855  \n",
       "1  10.033261  \n",
       "2  10.085626  \n",
       "3  10.168130  \n",
       "4  10.159912  "
      ]
     },
     "execution_count": 6,
     "metadata": {},
     "output_type": "execute_result"
    }
   ],
   "source": [
    "df=df.reset_index()\n",
    "df.head()"
   ]
  },
  {
   "cell_type": "code",
   "execution_count": 8,
   "id": "d0933cbe",
   "metadata": {},
   "outputs": [
    {
     "ename": "SyntaxError",
     "evalue": "invalid syntax. Maybe you meant '==' or ':=' instead of '='? (2939133593.py, line 1)",
     "output_type": "error",
     "traceback": [
      "\u001b[1;36m  Cell \u001b[1;32mIn [8], line 1\u001b[1;36m\u001b[0m\n\u001b[1;33m    df.drop(['Date','Adj Close',axis=1])\u001b[0m\n\u001b[1;37m                                ^\u001b[0m\n\u001b[1;31mSyntaxError\u001b[0m\u001b[1;31m:\u001b[0m invalid syntax. Maybe you meant '==' or ':=' instead of '='?\n"
     ]
    }
   ],
   "source": [
    "df.drop(['Date','Adj Close',axis=1])\n",
    "df.head()"
   ]
  },
  {
   "cell_type": "code",
   "execution_count": 3,
   "id": "5f58ff6f",
   "metadata": {},
   "outputs": [
    {
     "ename": "KeyboardInterrupt",
     "evalue": "",
     "output_type": "error",
     "traceback": [
      "\u001b[1;31m---------------------------------------------------------------------------\u001b[0m",
      "\u001b[1;31mKeyboardInterrupt\u001b[0m                         Traceback (most recent call last)",
      "Cell \u001b[1;32mIn [3], line 2\u001b[0m\n\u001b[0;32m      1\u001b[0m \u001b[38;5;28;01mimport\u001b[39;00m \u001b[38;5;21;01mnumpy\u001b[39;00m \u001b[38;5;28;01mas\u001b[39;00m \u001b[38;5;21;01mnp\u001b[39;00m\n\u001b[1;32m----> 2\u001b[0m \u001b[38;5;28;01mimport\u001b[39;00m \u001b[38;5;21;01mpandas\u001b[39;00m \u001b[38;5;28;01mas\u001b[39;00m \u001b[38;5;21;01mpd\u001b[39;00m\n\u001b[0;32m      3\u001b[0m \u001b[38;5;28;01mimport\u001b[39;00m \u001b[38;5;21;01mmatplotlib\u001b[39;00m\u001b[38;5;21;01m.\u001b[39;00m\u001b[38;5;21;01mpyplot\u001b[39;00m \u001b[38;5;28;01mas\u001b[39;00m \u001b[38;5;21;01mplt\u001b[39;00m\n\u001b[0;32m      4\u001b[0m \u001b[38;5;28;01mimport\u001b[39;00m \u001b[38;5;21;01mpandas_datareader\u001b[39;00m \u001b[38;5;28;01mas\u001b[39;00m \u001b[38;5;21;01mdata\u001b[39;00m\n",
      "File \u001b[1;32m~\\AppData\\Local\\Programs\\Python\\Python310\\lib\\site-packages\\pandas\\__init__.py:22\u001b[0m\n\u001b[0;32m     19\u001b[0m \u001b[38;5;28;01mdel\u001b[39;00m _hard_dependencies, _dependency, _missing_dependencies\n\u001b[0;32m     21\u001b[0m \u001b[38;5;66;03m# numpy compat\u001b[39;00m\n\u001b[1;32m---> 22\u001b[0m \u001b[38;5;28;01mfrom\u001b[39;00m \u001b[38;5;21;01mpandas\u001b[39;00m\u001b[38;5;21;01m.\u001b[39;00m\u001b[38;5;21;01mcompat\u001b[39;00m \u001b[38;5;28;01mimport\u001b[39;00m is_numpy_dev \u001b[38;5;28;01mas\u001b[39;00m _is_numpy_dev  \u001b[38;5;66;03m# pyright: ignore # noqa:F401\u001b[39;00m\n\u001b[0;32m     24\u001b[0m \u001b[38;5;28;01mtry\u001b[39;00m:\n\u001b[0;32m     25\u001b[0m     \u001b[38;5;28;01mfrom\u001b[39;00m \u001b[38;5;21;01mpandas\u001b[39;00m\u001b[38;5;21;01m.\u001b[39;00m\u001b[38;5;21;01m_libs\u001b[39;00m \u001b[38;5;28;01mimport\u001b[39;00m hashtable \u001b[38;5;28;01mas\u001b[39;00m _hashtable, lib \u001b[38;5;28;01mas\u001b[39;00m _lib, tslib \u001b[38;5;28;01mas\u001b[39;00m _tslib\n",
      "File \u001b[1;32m~\\AppData\\Local\\Programs\\Python\\Python310\\lib\\site-packages\\pandas\\compat\\__init__.py:18\u001b[0m\n\u001b[0;32m     15\u001b[0m \u001b[38;5;28;01mfrom\u001b[39;00m \u001b[38;5;21;01mtyping\u001b[39;00m \u001b[38;5;28;01mimport\u001b[39;00m TYPE_CHECKING\n\u001b[0;32m     17\u001b[0m \u001b[38;5;28;01mfrom\u001b[39;00m \u001b[38;5;21;01mpandas\u001b[39;00m\u001b[38;5;21;01m.\u001b[39;00m\u001b[38;5;21;01m_typing\u001b[39;00m \u001b[38;5;28;01mimport\u001b[39;00m F\n\u001b[1;32m---> 18\u001b[0m \u001b[38;5;28;01mfrom\u001b[39;00m \u001b[38;5;21;01mpandas\u001b[39;00m\u001b[38;5;21;01m.\u001b[39;00m\u001b[38;5;21;01mcompat\u001b[39;00m\u001b[38;5;21;01m.\u001b[39;00m\u001b[38;5;21;01mnumpy\u001b[39;00m \u001b[38;5;28;01mimport\u001b[39;00m (\n\u001b[0;32m     19\u001b[0m     is_numpy_dev,\n\u001b[0;32m     20\u001b[0m     np_version_under1p21,\n\u001b[0;32m     21\u001b[0m )\n\u001b[0;32m     22\u001b[0m \u001b[38;5;28;01mfrom\u001b[39;00m \u001b[38;5;21;01mpandas\u001b[39;00m\u001b[38;5;21;01m.\u001b[39;00m\u001b[38;5;21;01mcompat\u001b[39;00m\u001b[38;5;21;01m.\u001b[39;00m\u001b[38;5;21;01mpyarrow\u001b[39;00m \u001b[38;5;28;01mimport\u001b[39;00m (\n\u001b[0;32m     23\u001b[0m     pa_version_under1p01,\n\u001b[0;32m     24\u001b[0m     pa_version_under2p0,\n\u001b[1;32m   (...)\u001b[0m\n\u001b[0;32m     31\u001b[0m     pa_version_under9p0,\n\u001b[0;32m     32\u001b[0m )\n\u001b[0;32m     34\u001b[0m \u001b[38;5;28;01mif\u001b[39;00m TYPE_CHECKING:\n",
      "File \u001b[1;32m~\\AppData\\Local\\Programs\\Python\\Python310\\lib\\site-packages\\pandas\\compat\\numpy\\__init__.py:4\u001b[0m\n\u001b[0;32m      1\u001b[0m \u001b[38;5;124;03m\"\"\" support numpy compatibility across versions \"\"\"\u001b[39;00m\n\u001b[0;32m      2\u001b[0m \u001b[38;5;28;01mimport\u001b[39;00m \u001b[38;5;21;01mnumpy\u001b[39;00m \u001b[38;5;28;01mas\u001b[39;00m \u001b[38;5;21;01mnp\u001b[39;00m\n\u001b[1;32m----> 4\u001b[0m \u001b[38;5;28;01mfrom\u001b[39;00m \u001b[38;5;21;01mpandas\u001b[39;00m\u001b[38;5;21;01m.\u001b[39;00m\u001b[38;5;21;01mutil\u001b[39;00m\u001b[38;5;21;01m.\u001b[39;00m\u001b[38;5;21;01mversion\u001b[39;00m \u001b[38;5;28;01mimport\u001b[39;00m Version\n\u001b[0;32m      6\u001b[0m \u001b[38;5;66;03m# numpy versioning\u001b[39;00m\n\u001b[0;32m      7\u001b[0m _np_version \u001b[38;5;241m=\u001b[39m np\u001b[38;5;241m.\u001b[39m__version__\n",
      "File \u001b[1;32m~\\AppData\\Local\\Programs\\Python\\Python310\\lib\\site-packages\\pandas\\util\\__init__.py:2\u001b[0m\n\u001b[0;32m      1\u001b[0m \u001b[38;5;66;03m# pyright: reportUnusedImport = false\u001b[39;00m\n\u001b[1;32m----> 2\u001b[0m \u001b[38;5;28;01mfrom\u001b[39;00m \u001b[38;5;21;01mpandas\u001b[39;00m\u001b[38;5;21;01m.\u001b[39;00m\u001b[38;5;21;01mutil\u001b[39;00m\u001b[38;5;21;01m.\u001b[39;00m\u001b[38;5;21;01m_decorators\u001b[39;00m \u001b[38;5;28;01mimport\u001b[39;00m (  \u001b[38;5;66;03m# noqa:F401\u001b[39;00m\n\u001b[0;32m      3\u001b[0m     Appender,\n\u001b[0;32m      4\u001b[0m     Substitution,\n\u001b[0;32m      5\u001b[0m     cache_readonly,\n\u001b[0;32m      6\u001b[0m )\n\u001b[0;32m      8\u001b[0m \u001b[38;5;28;01mfrom\u001b[39;00m \u001b[38;5;21;01mpandas\u001b[39;00m\u001b[38;5;21;01m.\u001b[39;00m\u001b[38;5;21;01mcore\u001b[39;00m\u001b[38;5;21;01m.\u001b[39;00m\u001b[38;5;21;01mutil\u001b[39;00m\u001b[38;5;21;01m.\u001b[39;00m\u001b[38;5;21;01mhashing\u001b[39;00m \u001b[38;5;28;01mimport\u001b[39;00m (  \u001b[38;5;66;03m# noqa:F401\u001b[39;00m\n\u001b[0;32m      9\u001b[0m     hash_array,\n\u001b[0;32m     10\u001b[0m     hash_pandas_object,\n\u001b[0;32m     11\u001b[0m )\n\u001b[0;32m     14\u001b[0m \u001b[38;5;28;01mdef\u001b[39;00m \u001b[38;5;21m__getattr__\u001b[39m(name):\n",
      "File \u001b[1;32m~\\AppData\\Local\\Programs\\Python\\Python310\\lib\\site-packages\\pandas\\util\\_decorators.py:14\u001b[0m\n\u001b[0;32m      6\u001b[0m \u001b[38;5;28;01mfrom\u001b[39;00m \u001b[38;5;21;01mtyping\u001b[39;00m \u001b[38;5;28;01mimport\u001b[39;00m (\n\u001b[0;32m      7\u001b[0m     Any,\n\u001b[0;32m      8\u001b[0m     Callable,\n\u001b[0;32m      9\u001b[0m     Mapping,\n\u001b[0;32m     10\u001b[0m     cast,\n\u001b[0;32m     11\u001b[0m )\n\u001b[0;32m     12\u001b[0m \u001b[38;5;28;01mimport\u001b[39;00m \u001b[38;5;21;01mwarnings\u001b[39;00m\n\u001b[1;32m---> 14\u001b[0m \u001b[38;5;28;01mfrom\u001b[39;00m \u001b[38;5;21;01mpandas\u001b[39;00m\u001b[38;5;21;01m.\u001b[39;00m\u001b[38;5;21;01m_libs\u001b[39;00m\u001b[38;5;21;01m.\u001b[39;00m\u001b[38;5;21;01mproperties\u001b[39;00m \u001b[38;5;28;01mimport\u001b[39;00m cache_readonly\n\u001b[0;32m     15\u001b[0m \u001b[38;5;28;01mfrom\u001b[39;00m \u001b[38;5;21;01mpandas\u001b[39;00m\u001b[38;5;21;01m.\u001b[39;00m\u001b[38;5;21;01m_typing\u001b[39;00m \u001b[38;5;28;01mimport\u001b[39;00m (\n\u001b[0;32m     16\u001b[0m     F,\n\u001b[0;32m     17\u001b[0m     T,\n\u001b[0;32m     18\u001b[0m )\n\u001b[0;32m     19\u001b[0m \u001b[38;5;28;01mfrom\u001b[39;00m \u001b[38;5;21;01mpandas\u001b[39;00m\u001b[38;5;21;01m.\u001b[39;00m\u001b[38;5;21;01mutil\u001b[39;00m\u001b[38;5;21;01m.\u001b[39;00m\u001b[38;5;21;01m_exceptions\u001b[39;00m \u001b[38;5;28;01mimport\u001b[39;00m find_stack_level\n",
      "File \u001b[1;32m~\\AppData\\Local\\Programs\\Python\\Python310\\lib\\site-packages\\pandas\\_libs\\__init__.py:13\u001b[0m\n\u001b[0;32m      1\u001b[0m __all__ \u001b[38;5;241m=\u001b[39m [\n\u001b[0;32m      2\u001b[0m     \u001b[38;5;124m\"\u001b[39m\u001b[38;5;124mNaT\u001b[39m\u001b[38;5;124m\"\u001b[39m,\n\u001b[0;32m      3\u001b[0m     \u001b[38;5;124m\"\u001b[39m\u001b[38;5;124mNaTType\u001b[39m\u001b[38;5;124m\"\u001b[39m,\n\u001b[1;32m   (...)\u001b[0m\n\u001b[0;32m      9\u001b[0m     \u001b[38;5;124m\"\u001b[39m\u001b[38;5;124mInterval\u001b[39m\u001b[38;5;124m\"\u001b[39m,\n\u001b[0;32m     10\u001b[0m ]\n\u001b[1;32m---> 13\u001b[0m \u001b[38;5;28;01mfrom\u001b[39;00m \u001b[38;5;21;01mpandas\u001b[39;00m\u001b[38;5;21;01m.\u001b[39;00m\u001b[38;5;21;01m_libs\u001b[39;00m\u001b[38;5;21;01m.\u001b[39;00m\u001b[38;5;21;01minterval\u001b[39;00m \u001b[38;5;28;01mimport\u001b[39;00m Interval\n\u001b[0;32m     14\u001b[0m \u001b[38;5;28;01mfrom\u001b[39;00m \u001b[38;5;21;01mpandas\u001b[39;00m\u001b[38;5;21;01m.\u001b[39;00m\u001b[38;5;21;01m_libs\u001b[39;00m\u001b[38;5;21;01m.\u001b[39;00m\u001b[38;5;21;01mtslibs\u001b[39;00m \u001b[38;5;28;01mimport\u001b[39;00m (\n\u001b[0;32m     15\u001b[0m     NaT,\n\u001b[0;32m     16\u001b[0m     NaTType,\n\u001b[1;32m   (...)\u001b[0m\n\u001b[0;32m     21\u001b[0m     iNaT,\n\u001b[0;32m     22\u001b[0m )\n",
      "File \u001b[1;32m~\\AppData\\Local\\Programs\\Python\\Python310\\lib\\site-packages\\pandas\\_libs\\interval.pyx:1\u001b[0m, in \u001b[0;36minit pandas._libs.interval\u001b[1;34m()\u001b[0m\n",
      "File \u001b[1;32m~\\AppData\\Local\\Programs\\Python\\Python310\\lib\\site-packages\\pandas\\_libs\\hashtable.pyx:1\u001b[0m, in \u001b[0;36minit pandas._libs.hashtable\u001b[1;34m()\u001b[0m\n",
      "File \u001b[1;32m~\\AppData\\Local\\Programs\\Python\\Python310\\lib\\site-packages\\pandas\\_libs\\missing.pyx:1\u001b[0m, in \u001b[0;36minit pandas._libs.missing\u001b[1;34m()\u001b[0m\n",
      "File \u001b[1;32m~\\AppData\\Local\\Programs\\Python\\Python310\\lib\\site-packages\\pandas\\_libs\\tslibs\\__init__.py:74\u001b[0m\n\u001b[0;32m     72\u001b[0m \u001b[38;5;28;01mfrom\u001b[39;00m \u001b[38;5;21;01mpandas\u001b[39;00m\u001b[38;5;21;01m.\u001b[39;00m\u001b[38;5;21;01m_libs\u001b[39;00m\u001b[38;5;21;01m.\u001b[39;00m\u001b[38;5;21;01mtslibs\u001b[39;00m\u001b[38;5;21;01m.\u001b[39;00m\u001b[38;5;21;01mtimezones\u001b[39;00m \u001b[38;5;28;01mimport\u001b[39;00m tz_compare\n\u001b[0;32m     73\u001b[0m \u001b[38;5;28;01mfrom\u001b[39;00m \u001b[38;5;21;01mpandas\u001b[39;00m\u001b[38;5;21;01m.\u001b[39;00m\u001b[38;5;21;01m_libs\u001b[39;00m\u001b[38;5;21;01m.\u001b[39;00m\u001b[38;5;21;01mtslibs\u001b[39;00m\u001b[38;5;21;01m.\u001b[39;00m\u001b[38;5;21;01mtzconversion\u001b[39;00m \u001b[38;5;28;01mimport\u001b[39;00m tz_convert_from_utc_single\n\u001b[1;32m---> 74\u001b[0m \u001b[38;5;28;01mfrom\u001b[39;00m \u001b[38;5;21;01mpandas\u001b[39;00m\u001b[38;5;21;01m.\u001b[39;00m\u001b[38;5;21;01m_libs\u001b[39;00m\u001b[38;5;21;01m.\u001b[39;00m\u001b[38;5;21;01mtslibs\u001b[39;00m\u001b[38;5;21;01m.\u001b[39;00m\u001b[38;5;21;01mvectorized\u001b[39;00m \u001b[38;5;28;01mimport\u001b[39;00m (\n\u001b[0;32m     75\u001b[0m     dt64arr_to_periodarr,\n\u001b[0;32m     76\u001b[0m     get_resolution,\n\u001b[0;32m     77\u001b[0m     ints_to_pydatetime,\n\u001b[0;32m     78\u001b[0m     is_date_array_normalized,\n\u001b[0;32m     79\u001b[0m     normalize_i8_timestamps,\n\u001b[0;32m     80\u001b[0m     tz_convert_from_utc,\n\u001b[0;32m     81\u001b[0m )\n",
      "File \u001b[1;32m<frozen importlib._bootstrap>:404\u001b[0m, in \u001b[0;36mparent\u001b[1;34m(self)\u001b[0m\n",
      "\u001b[1;31mKeyboardInterrupt\u001b[0m: "
     ]
    }
   ],
   "source": [
    "import numpy as np\n",
    "import pandas as pd\n",
    "import matplotlib.pyplot as plt\n",
    "import pandas_datareader as data\n",
    "\n",
    "start='2011-01-01'\n",
    "end='2021-12-31'\n",
    "df=data.DataReader('AAPL','yahoo',start,end)\n",
    "df=df.reset_index()\n",
    "df=df.drop(['Date','Adj Close',], axis=1)\n",
    "df.head()"
   ]
  },
  {
   "cell_type": "code",
   "execution_count": 16,
   "id": "e837f240",
   "metadata": {},
   "outputs": [
    {
     "data": {
      "text/plain": [
       "[<matplotlib.lines.Line2D at 0x1ec28a7ace0>]"
      ]
     },
     "execution_count": 16,
     "metadata": {},
     "output_type": "execute_result"
    },
    {
     "data": {
      "image/png": "[encoded data removed]",
      "text/plain": [
       "<Figure size 640x480 with 1 Axes>"
      ]
     },
     "metadata": {},
     "output_type": "display_data"
    }
   ],
   "source": [
    "plt.plot(df.Close)"
   ]
  },
  {
   "cell_type": "code",
   "execution_count": 20,
   "id": "d5bfaa56",
   "metadata": {},
   "outputs": [
    {
     "name": "stdout",
     "output_type": "stream",
     "text": [
      "0            NaN\n",
      "1            NaN\n",
      "2            NaN\n",
      "3            NaN\n",
      "4            NaN\n",
      "          ...   \n",
      "2765    153.3444\n",
      "2766    153.6667\n",
      "2767    153.9991\n",
      "2768    154.3202\n",
      "2769    154.6399\n",
      "Name: Close, Length: 2770, dtype: float64\n"
     ]
    }
   ],
   "source": [
    "mAvrg100=df.Close.rolling(100).mean()\n",
    "print(mAvrg100)"
   ]
  },
  {
   "cell_type": "code",
   "execution_count": null,
   "id": "9555833b",
   "metadata": {},
   "outputs": [],
   "source": [
    "plt.figure(figsize=(12,6))\n",
    "plt.plot(df.Close)\n",
    "plt.plot(mAvrg100,'r')"
   ]
  },
  {
   "cell_type": "code",
   "execution_count": 27,
   "id": "ed1f0734",
   "metadata": {},
   "outputs": [
    {
     "data": {
      "text/plain": [
       "(2770, 5)"
      ]
     },
     "execution_count": 27,
     "metadata": {},
     "output_type": "execute_result"
    },
    {
     "data": {
      "image/png": "[encoded data removed]",
      "text/plain": [
       "<Figure size 1200x600 with 1 Axes>"
      ]
     },
     "metadata": {},
     "output_type": "display_data"
    },
    {
     "data": {
      "image/png": "[encoded data removed]",
      "text/plain": [
       "<Figure size 1200x600 with 1 Axes>"
      ]
     },
     "metadata": {},
     "output_type": "display_data"
    }
   ],
   "source": [
    "import numpy as np\n",
    "import pandas as pd\n",
    "import matplotlib.pyplot as plt\n",
    "import pandas_datareader as data\n",
    "#Creating variable for starting and ending time of data set\n",
    "start='2011-01-01'\n",
    "end='2021-12-31'\n",
    "#scrapping the data from the site\n",
    "df=data.DataReader('AAPL','yahoo',start,end)\n",
    "#Reseting the index 0 to onward as it was having the index of dates\n",
    "df=df.reset_index()\n",
    "#Dropping the unwanted column\n",
    "df=df.drop(['Date','Adj Close',], axis=1)\n",
    "#plt.plot(df.Close)\n",
    "#Calculting the mean value of every 100 days from starting till last date\n",
    "mAvrg100=df.Close.rolling(100).mean()\n",
    "#ploting figure for only closing range and mean value of evey 100 days\n",
    "plt.figure(figsize=(12,6))\n",
    "plt.plot(df.Close)\n",
    "plt.plot(mAvrg100,'r')\n",
    "mAvrg200=df.Close.rolling(200).mean()\n",
    "plt.figure(figsize=(12,6))\n",
    "plt.plot(df.Close)\n",
    "plt.plot(mAvrg100,'r')\n",
    "plt.plot(mAvrg200,'g')\n",
    "df.shape"
   ]
  },
  {
   "cell_type": "code",
   "execution_count": null,
   "id": "e1fb0336",
   "metadata": {},
   "outputs": [],
   "source": [
    "#spliting data into training and testing\n",
    "D_training = pd.DataFrame(df['Close'][0:int(len(df)*0.70)])\n",
    "D_testing = pd.DataFrame(df['Close'][int(len(df)*0.70):int(len(df))])\n",
    "print(D_training.shape)\n",
    "print(D_testing.shape)\n",
    "D_training.head()"
   ]
  },
  {
   "cell_type": "code",
   "execution_count": 22,
   "id": "8b9849b0",
   "metadata": {
    "scrolled": false
   },
   "outputs": [
    {
     "name": "stderr",
     "output_type": "stream",
     "text": [
      "WARNING: Retrying (Retry(total=4, connect=None, read=None, redirect=None, status=None)) after connection broken by 'NewConnectionError('<pip._vendor.urllib3.connection.HTTPSConnection object at 0x0000015DB127AAA0>: Failed to establish a new connection: [Errno 11001] getaddrinfo failed')': /simple/tensorflow/\n",
      "WARNING: Retrying (Retry(total=3, connect=None, read=None, redirect=None, status=None)) after connection broken by 'NewConnectionError('<pip._vendor.urllib3.connection.HTTPSConnection object at 0x0000015DB127ADD0>: Failed to establish a new connection: [Errno 11001] getaddrinfo failed')': /simple/tensorflow/\n",
      "WARNING: Retrying (Retry(total=2, connect=None, read=None, redirect=None, status=None)) after connection broken by 'NewConnectionError('<pip._vendor.urllib3.connection.HTTPSConnection object at 0x0000015DB127B100>: Failed to establish a new connection: [Errno 11001] getaddrinfo failed')': /simple/tensorflow/\n",
      "WARNING: Retrying (Retry(total=1, connect=None, read=None, redirect=None, status=None)) after connection broken by 'NewConnectionError('<pip._vendor.urllib3.connection.HTTPSConnection object at 0x0000015DB127B2B0>: Failed to establish a new connection: [Errno 11001] getaddrinfo failed')': /simple/tensorflow/\n",
      "WARNING: Retrying (Retry(total=0, connect=None, read=None, redirect=None, status=None)) after connection broken by 'NewConnectionError('<pip._vendor.urllib3.connection.HTTPSConnection object at 0x0000015DB127B460>: Failed to establish a new connection: [Errno 11001] getaddrinfo failed')': /simple/tensorflow/\n",
      "ERROR: Could not find a version that satisfies the requirement tensorflow (from versions: none)\n",
      "ERROR: No matching distribution found for tensorflow\n",
      "\n",
      "[notice] A new release of pip available: 22.3 -> 22.3.1\n",
      "[notice] To update, run: C:\\Users\\masam\\AppData\\Local\\Programs\\Python\\Python310\\python.exe -m pip install --upgrade pip\n"
     ]
    }
   ],
   "source": [
    "!pip install tensorflow\n"
   ]
  },
  {
   "cell_type": "code",
   "execution_count": null,
   "id": "fb7a3f70",
   "metadata": {},
   "outputs": [],
   "source": [
    "import numpy as np\n",
    "import pandas as pd\n",
    "import matplotlib.pyplot as plt\n",
    "import pandas_datareader as data\n",
    "from sklearn.preprocessing import MinMaxScaler\n",
    "from keras.layers import Dense, Dropout, LSTM\n",
    "from keras.models import Sequential\n",
    "#from sklearn.model_selection import train_test_split\n",
    "#Creating variable for starting and ending time of data set\n",
    "start = '2011-01-01'\n",
    "end = '2021-12-31'\n",
    "\n",
    "#scrapping the data from the site\n",
    "df = data.DataReader('TTM','yahoo',start,end)\n",
    "\n",
    "#Reseting the index 0 to onward as it was having the index of dates\n",
    "df = df.reset_index()\n",
    "\n",
    "#Dropping the unwanted column\n",
    "df = df.drop(['Date','Adj Close',], axis = 1)\n",
    "#plt.plot(df.Close)\n",
    "\n",
    "#Calculting the mean value of every 100 days from starting till last date\n",
    "mAvrg100 = df.Close.rolling(100).mean()\n",
    "\n",
    "#ploting figure for only closing range and mean value of evey 100 days\n",
    "plt.figure(figsize=(12,6))\n",
    "plt.plot(df.Close)\n",
    "plt.plot(mAvrg100,'r')\n",
    "mAvrg200 = df.Close.rolling(200).mean()\n",
    "plt.figure(figsize = (12,6))\n",
    "plt.plot(df.Close)\n",
    "plt.plot(mAvrg100,'r')\n",
    "plt.plot(mAvrg200,'g')\n",
    "\n",
    "#spliting data into training and testing\n",
    "D_training = pd.DataFrame(df['Close'][0:int(len(df)*0.70)])\n",
    "D_testing = pd.DataFrame(df['Close'][int(len(df)*0.70):int(len(df))])\n",
    "#D_training,D_testing=train_test_split(df,test_size=0.3,random_state=0)\n",
    "\n",
    "#using MinMaxScaler to shrink the data into a given range\n",
    "scaler = MinMaxScaler(feature_range=(0,1))\n",
    "D_training_array = scaler.fit_transform(D_training)\n",
    "D_training_array\n",
    "\n",
    "#Predict the upcoming value based on previous or historical data\n",
    "x_train = []\n",
    "y_train = []\n",
    "for i in range(100,D_training_array.shape[0]):\n",
    "    x_train.append(D_training_array[i-100: i])\n",
    "    y_train.append(D_training_array[i, 0])\n",
    "\n",
    "x_train,y_train = np.array(x_train), np.array(y_train)\n",
    "model = Sequential()\n",
    "model.add(LSTM(units =50, activation = 'relu', return_sequences = True, input_shape = (x_train.shape[1], 1)))\n",
    "model.add(Dropout(0.2))\n",
    "\n",
    "model.add(LSTM(units =60 , activation = 'relu', return_sequences = True,))\n",
    "model.add(Dropout(0.3))\n",
    "\n",
    "model.add(LSTM(units =80, activation = 'relu', return_sequences = True,))\n",
    "model.add(Dropout(0.4))\n",
    "\n",
    "model.add(LSTM(units =120, activation = 'relu'))\n",
    "model.add(Dropout(0.5))\n",
    "\n",
    "model.add(Dense(units = 1))\n",
    "#model.summary()\n",
    "#model.compile(optimizer = 'adam', loss = 'mean_squared_error')\n",
    "#model.fit(x_train, y_train, epochs = 50)\n",
    "D_testing.head()\n",
    "#model.save('keras_model.h5')"
   ]
  },
  {
   "cell_type": "code",
   "execution_count": 33,
   "id": "fe0653b8",
   "metadata": {},
   "outputs": [],
   "source": [
    "model.save('keras_model.h5')"
   ]
  },
  {
   "cell_type": "code",
   "execution_count": 3,
   "id": "80dc025e",
   "metadata": {},
   "outputs": [
    {
     "ename": "NameError",
     "evalue": "name 'D_testing' is not defined",
     "output_type": "error",
     "traceback": [
      "\u001b[1;31m---------------------------------------------------------------------------\u001b[0m",
      "\u001b[1;31mNameError\u001b[0m                                 Traceback (most recent call last)",
      "Cell \u001b[1;32mIn [3], line 1\u001b[0m\n\u001b[1;32m----> 1\u001b[0m D_testing\u001b[38;5;241m.\u001b[39mhead()\n",
      "\u001b[1;31mNameError\u001b[0m: name 'D_testing' is not defined"
     ]
    }
   ],
   "source": [
    "D_testing.head()"
   ]
  },
  {
   "cell_type": "code",
   "execution_count": 4,
   "id": "306feea6",
   "metadata": {},
   "outputs": [
    {
     "ename": "NameError",
     "evalue": "name 'D_testing' is not defined",
     "output_type": "error",
     "traceback": [
      "\u001b[1;31m---------------------------------------------------------------------------\u001b[0m",
      "\u001b[1;31mNameError\u001b[0m                                 Traceback (most recent call last)",
      "Cell \u001b[1;32mIn [4], line 1\u001b[0m\n\u001b[1;32m----> 1\u001b[0m D_testing\u001b[38;5;241m.\u001b[39mhead()\n",
      "\u001b[1;31mNameError\u001b[0m: name 'D_testing' is not defined"
     ]
    }
   ],
   "source": [
    "D_testing.head()"
   ]
  },
  {
   "cell_type": "code",
   "execution_count": 4,
   "id": "4fd310f1",
   "metadata": {},
   "outputs": [
    {
     "ename": "SystemError",
     "evalue": "initialization of json raised unreported exception",
     "output_type": "error",
     "traceback": [
      "\u001b[1;31m---------------------------------------------------------------------------\u001b[0m",
      "\u001b[1;31mSystemError\u001b[0m                               Traceback (most recent call last)",
      "Cell \u001b[1;32mIn [4], line 2\u001b[0m\n\u001b[0;32m      1\u001b[0m \u001b[38;5;28;01mimport\u001b[39;00m \u001b[38;5;21;01mnumpy\u001b[39;00m \u001b[38;5;28;01mas\u001b[39;00m \u001b[38;5;21;01mnp\u001b[39;00m\n\u001b[1;32m----> 2\u001b[0m \u001b[38;5;28;01mimport\u001b[39;00m \u001b[38;5;21;01mpandas\u001b[39;00m \u001b[38;5;28;01mas\u001b[39;00m \u001b[38;5;21;01mpd\u001b[39;00m\n\u001b[0;32m      3\u001b[0m \u001b[38;5;28;01mimport\u001b[39;00m \u001b[38;5;21;01mmatplotlib\u001b[39;00m\u001b[38;5;21;01m.\u001b[39;00m\u001b[38;5;21;01mpyplot\u001b[39;00m \u001b[38;5;28;01mas\u001b[39;00m \u001b[38;5;21;01mplt\u001b[39;00m\n\u001b[0;32m      4\u001b[0m \u001b[38;5;28;01mimport\u001b[39;00m \u001b[38;5;21;01mpandas_datareader\u001b[39;00m \u001b[38;5;28;01mas\u001b[39;00m \u001b[38;5;21;01mdata\u001b[39;00m\n",
      "File \u001b[1;32m~\\AppData\\Local\\Programs\\Python\\Python310\\lib\\site-packages\\pandas\\__init__.py:141\u001b[0m\n\u001b[0;32m    138\u001b[0m \u001b[38;5;28;01mfrom\u001b[39;00m \u001b[38;5;21;01mpandas\u001b[39;00m \u001b[38;5;28;01mimport\u001b[39;00m testing  \u001b[38;5;66;03m# noqa:PDF015\u001b[39;00m\n\u001b[0;32m    139\u001b[0m \u001b[38;5;28;01mfrom\u001b[39;00m \u001b[38;5;21;01mpandas\u001b[39;00m\u001b[38;5;21;01m.\u001b[39;00m\u001b[38;5;21;01mutil\u001b[39;00m\u001b[38;5;21;01m.\u001b[39;00m\u001b[38;5;21;01m_print_versions\u001b[39;00m \u001b[38;5;28;01mimport\u001b[39;00m show_versions\n\u001b[1;32m--> 141\u001b[0m \u001b[38;5;28;01mfrom\u001b[39;00m \u001b[38;5;21;01mpandas\u001b[39;00m\u001b[38;5;21;01m.\u001b[39;00m\u001b[38;5;21;01mio\u001b[39;00m\u001b[38;5;21;01m.\u001b[39;00m\u001b[38;5;21;01mapi\u001b[39;00m \u001b[38;5;28;01mimport\u001b[39;00m (\n\u001b[0;32m    142\u001b[0m     \u001b[38;5;66;03m# excel\u001b[39;00m\n\u001b[0;32m    143\u001b[0m     ExcelFile,\n\u001b[0;32m    144\u001b[0m     ExcelWriter,\n\u001b[0;32m    145\u001b[0m     read_excel,\n\u001b[0;32m    146\u001b[0m     \u001b[38;5;66;03m# parsers\u001b[39;00m\n\u001b[0;32m    147\u001b[0m     read_csv,\n\u001b[0;32m    148\u001b[0m     read_fwf,\n\u001b[0;32m    149\u001b[0m     read_table,\n\u001b[0;32m    150\u001b[0m     \u001b[38;5;66;03m# pickle\u001b[39;00m\n\u001b[0;32m    151\u001b[0m     read_pickle,\n\u001b[0;32m    152\u001b[0m     to_pickle,\n\u001b[0;32m    153\u001b[0m     \u001b[38;5;66;03m# pytables\u001b[39;00m\n\u001b[0;32m    154\u001b[0m     HDFStore,\n\u001b[0;32m    155\u001b[0m     read_hdf,\n\u001b[0;32m    156\u001b[0m     \u001b[38;5;66;03m# sql\u001b[39;00m\n\u001b[0;32m    157\u001b[0m     read_sql,\n\u001b[0;32m    158\u001b[0m     read_sql_query,\n\u001b[0;32m    159\u001b[0m     read_sql_table,\n\u001b[0;32m    160\u001b[0m     \u001b[38;5;66;03m# misc\u001b[39;00m\n\u001b[0;32m    161\u001b[0m     read_clipboard,\n\u001b[0;32m    162\u001b[0m     read_parquet,\n\u001b[0;32m    163\u001b[0m     read_orc,\n\u001b[0;32m    164\u001b[0m     read_feather,\n\u001b[0;32m    165\u001b[0m     read_gbq,\n\u001b[0;32m    166\u001b[0m     read_html,\n\u001b[0;32m    167\u001b[0m     read_xml,\n\u001b[0;32m    168\u001b[0m     read_json,\n\u001b[0;32m    169\u001b[0m     read_stata,\n\u001b[0;32m    170\u001b[0m     read_sas,\n\u001b[0;32m    171\u001b[0m     read_spss,\n\u001b[0;32m    172\u001b[0m )\n\u001b[0;32m    174\u001b[0m \u001b[38;5;28;01mfrom\u001b[39;00m \u001b[38;5;21;01mpandas\u001b[39;00m\u001b[38;5;21;01m.\u001b[39;00m\u001b[38;5;21;01mio\u001b[39;00m\u001b[38;5;21;01m.\u001b[39;00m\u001b[38;5;21;01mjson\u001b[39;00m \u001b[38;5;28;01mimport\u001b[39;00m _json_normalize \u001b[38;5;28;01mas\u001b[39;00m json_normalize\n\u001b[0;32m    176\u001b[0m \u001b[38;5;28;01mfrom\u001b[39;00m \u001b[38;5;21;01mpandas\u001b[39;00m\u001b[38;5;21;01m.\u001b[39;00m\u001b[38;5;21;01mutil\u001b[39;00m\u001b[38;5;21;01m.\u001b[39;00m\u001b[38;5;21;01m_tester\u001b[39;00m \u001b[38;5;28;01mimport\u001b[39;00m test\n",
      "File \u001b[1;32m~\\AppData\\Local\\Programs\\Python\\Python310\\lib\\site-packages\\pandas\\io\\api.py:6\u001b[0m\n\u001b[0;32m      1\u001b[0m \u001b[38;5;124;03m\"\"\"\u001b[39;00m\n\u001b[0;32m      2\u001b[0m \u001b[38;5;124;03mData IO api\u001b[39;00m\n\u001b[0;32m      3\u001b[0m \u001b[38;5;124;03m\"\"\"\u001b[39;00m\n\u001b[0;32m      5\u001b[0m \u001b[38;5;28;01mfrom\u001b[39;00m \u001b[38;5;21;01mpandas\u001b[39;00m\u001b[38;5;21;01m.\u001b[39;00m\u001b[38;5;21;01mio\u001b[39;00m\u001b[38;5;21;01m.\u001b[39;00m\u001b[38;5;21;01mclipboards\u001b[39;00m \u001b[38;5;28;01mimport\u001b[39;00m read_clipboard\n\u001b[1;32m----> 6\u001b[0m \u001b[38;5;28;01mfrom\u001b[39;00m \u001b[38;5;21;01mpandas\u001b[39;00m\u001b[38;5;21;01m.\u001b[39;00m\u001b[38;5;21;01mio\u001b[39;00m\u001b[38;5;21;01m.\u001b[39;00m\u001b[38;5;21;01mexcel\u001b[39;00m \u001b[38;5;28;01mimport\u001b[39;00m (\n\u001b[0;32m      7\u001b[0m     ExcelFile,\n\u001b[0;32m      8\u001b[0m     ExcelWriter,\n\u001b[0;32m      9\u001b[0m     read_excel,\n\u001b[0;32m     10\u001b[0m )\n\u001b[0;32m     11\u001b[0m \u001b[38;5;28;01mfrom\u001b[39;00m \u001b[38;5;21;01mpandas\u001b[39;00m\u001b[38;5;21;01m.\u001b[39;00m\u001b[38;5;21;01mio\u001b[39;00m\u001b[38;5;21;01m.\u001b[39;00m\u001b[38;5;21;01mfeather_format\u001b[39;00m \u001b[38;5;28;01mimport\u001b[39;00m read_feather\n\u001b[0;32m     12\u001b[0m \u001b[38;5;28;01mfrom\u001b[39;00m \u001b[38;5;21;01mpandas\u001b[39;00m\u001b[38;5;21;01m.\u001b[39;00m\u001b[38;5;21;01mio\u001b[39;00m\u001b[38;5;21;01m.\u001b[39;00m\u001b[38;5;21;01mgbq\u001b[39;00m \u001b[38;5;28;01mimport\u001b[39;00m read_gbq\n",
      "File \u001b[1;32m~\\AppData\\Local\\Programs\\Python\\Python310\\lib\\site-packages\\pandas\\io\\excel\\__init__.py:6\u001b[0m\n\u001b[0;32m      1\u001b[0m \u001b[38;5;28;01mfrom\u001b[39;00m \u001b[38;5;21;01mpandas\u001b[39;00m\u001b[38;5;21;01m.\u001b[39;00m\u001b[38;5;21;01mio\u001b[39;00m\u001b[38;5;21;01m.\u001b[39;00m\u001b[38;5;21;01mexcel\u001b[39;00m\u001b[38;5;21;01m.\u001b[39;00m\u001b[38;5;21;01m_base\u001b[39;00m \u001b[38;5;28;01mimport\u001b[39;00m (\n\u001b[0;32m      2\u001b[0m     ExcelFile,\n\u001b[0;32m      3\u001b[0m     ExcelWriter,\n\u001b[0;32m      4\u001b[0m     read_excel,\n\u001b[0;32m      5\u001b[0m )\n\u001b[1;32m----> 6\u001b[0m \u001b[38;5;28;01mfrom\u001b[39;00m \u001b[38;5;21;01mpandas\u001b[39;00m\u001b[38;5;21;01m.\u001b[39;00m\u001b[38;5;21;01mio\u001b[39;00m\u001b[38;5;21;01m.\u001b[39;00m\u001b[38;5;21;01mexcel\u001b[39;00m\u001b[38;5;21;01m.\u001b[39;00m\u001b[38;5;21;01m_odswriter\u001b[39;00m \u001b[38;5;28;01mimport\u001b[39;00m ODSWriter \u001b[38;5;28;01mas\u001b[39;00m _ODSWriter\n\u001b[0;32m      7\u001b[0m \u001b[38;5;28;01mfrom\u001b[39;00m \u001b[38;5;21;01mpandas\u001b[39;00m\u001b[38;5;21;01m.\u001b[39;00m\u001b[38;5;21;01mio\u001b[39;00m\u001b[38;5;21;01m.\u001b[39;00m\u001b[38;5;21;01mexcel\u001b[39;00m\u001b[38;5;21;01m.\u001b[39;00m\u001b[38;5;21;01m_openpyxl\u001b[39;00m \u001b[38;5;28;01mimport\u001b[39;00m OpenpyxlWriter \u001b[38;5;28;01mas\u001b[39;00m _OpenpyxlWriter\n\u001b[0;32m      8\u001b[0m \u001b[38;5;28;01mfrom\u001b[39;00m \u001b[38;5;21;01mpandas\u001b[39;00m\u001b[38;5;21;01m.\u001b[39;00m\u001b[38;5;21;01mio\u001b[39;00m\u001b[38;5;21;01m.\u001b[39;00m\u001b[38;5;21;01mexcel\u001b[39;00m\u001b[38;5;21;01m.\u001b[39;00m\u001b[38;5;21;01m_util\u001b[39;00m \u001b[38;5;28;01mimport\u001b[39;00m register_writer\n",
      "File \u001b[1;32m~\\AppData\\Local\\Programs\\Python\\Python310\\lib\\site-packages\\pandas\\io\\excel\\_odswriter.py:13\u001b[0m\n\u001b[0;32m      4\u001b[0m \u001b[38;5;28;01mimport\u001b[39;00m \u001b[38;5;21;01mdatetime\u001b[39;00m\n\u001b[0;32m      5\u001b[0m \u001b[38;5;28;01mfrom\u001b[39;00m \u001b[38;5;21;01mtyping\u001b[39;00m \u001b[38;5;28;01mimport\u001b[39;00m (\n\u001b[0;32m      6\u001b[0m     TYPE_CHECKING,\n\u001b[0;32m      7\u001b[0m     Any,\n\u001b[1;32m   (...)\u001b[0m\n\u001b[0;32m     10\u001b[0m     cast,\n\u001b[0;32m     11\u001b[0m )\n\u001b[1;32m---> 13\u001b[0m \u001b[38;5;28;01mimport\u001b[39;00m \u001b[38;5;21;01mpandas\u001b[39;00m\u001b[38;5;21;01m.\u001b[39;00m\u001b[38;5;21;01m_libs\u001b[39;00m\u001b[38;5;21;01m.\u001b[39;00m\u001b[38;5;21;01mjson\u001b[39;00m \u001b[38;5;28;01mas\u001b[39;00m \u001b[38;5;21;01mjson\u001b[39;00m\n\u001b[0;32m     14\u001b[0m \u001b[38;5;28;01mfrom\u001b[39;00m \u001b[38;5;21;01mpandas\u001b[39;00m\u001b[38;5;21;01m.\u001b[39;00m\u001b[38;5;21;01m_typing\u001b[39;00m \u001b[38;5;28;01mimport\u001b[39;00m (\n\u001b[0;32m     15\u001b[0m     FilePath,\n\u001b[0;32m     16\u001b[0m     StorageOptions,\n\u001b[0;32m     17\u001b[0m     WriteExcelBuffer,\n\u001b[0;32m     18\u001b[0m )\n\u001b[0;32m     20\u001b[0m \u001b[38;5;28;01mfrom\u001b[39;00m \u001b[38;5;21;01mpandas\u001b[39;00m\u001b[38;5;21;01m.\u001b[39;00m\u001b[38;5;21;01mio\u001b[39;00m\u001b[38;5;21;01m.\u001b[39;00m\u001b[38;5;21;01mexcel\u001b[39;00m\u001b[38;5;21;01m.\u001b[39;00m\u001b[38;5;21;01m_base\u001b[39;00m \u001b[38;5;28;01mimport\u001b[39;00m ExcelWriter\n",
      "\u001b[1;31mSystemError\u001b[0m: initialization of json raised unreported exception"
     ]
    }
   ],
   "source": [
    "import numpy as np\n",
    "import pandas as pd\n",
    "import matplotlib.pyplot as plt\n",
    "import pandas_datareader as data\n",
    "from sklearn.preprocessing import MinMaxScaler\n",
    "from keras.layers import Dense, Dropout, LSTM\n",
    "from keras.models import Sequential\n",
    "#from sklearn.model_selection import train_test_split\n",
    "#Creating variable for starting and ending time of data set\n",
    "start = '2011-01-01'\n",
    "end = '2021-12-31'\n",
    "\n",
    "#scrapping the data from the site\n",
    "df = data.DataReader('TTM','yahoo',start,end)\n",
    "\n",
    "#Reseting the index 0 to onward as it was having the index of dates\n",
    "df = df.reset_index()\n",
    "\n",
    "#Dropping the unwanted column\n",
    "df = df.drop(['Date','Adj Close',], axis = 1)\n",
    "#plt.plot(df.Close)\n",
    "\n",
    "#Calculting the mean value of every 100 days from starting till last date\n",
    "mAvrg100 = df.Close.rolling(100).mean()\n",
    "\n",
    "#ploting figure for only closing range and mean value of evey 100 days\n",
    "#plt.figure(figsize=(12,6))\n",
    "#plt.plot(df.Close)\n",
    "#plt.plot(mAvrg100,'r')\n",
    "mAvrg200 = df.Close.rolling(200).mean()\n",
    "#plt.figure(figsize = (12,6))\n",
    "#plt.plot(df.Close)\n",
    "#plt.plot(mAvrg100,'r')\n",
    "#plt.plot(mAvrg200,'g')\n",
    "\n",
    "#spliting data into training and testing\n",
    "D_training = pd.DataFrame(df['Close'][0:int(len(df)*0.70)])\n",
    "D_testing = pd.DataFrame(df['Close'][int(len(df)*0.70):int(len(df))])\n",
    "#D_training,D_testing=train_test_split(df,test_size=0.3,random_state=0)\n",
    "\n",
    "#using MinMaxScaler to shrink the data into a given range\n",
    "scaler = MinMaxScaler(feature_range=(0,1))\n",
    "D_training_array = scaler.fit_transform(D_training)\n",
    "D_training_array\n",
    "\n",
    "#Predict the upcoming value based on previous or historical data\n",
    "x_train = []\n",
    "y_train = []\n",
    "for i in range(100,D_training_array.shape[0]):\n",
    "    x_train.append(D_training_array[i-100: i])\n",
    "    y_train.append(D_training_array[i, 0])\n",
    "\n",
    "x_train,y_train = np.array(x_train), np.array(y_train)\n",
    "model = Sequential()\n",
    "model.add(LSTM(units =50, activation = 'relu', return_sequences = True, input_shape = (x_train.shape[1], 1)))\n",
    "model.add(Dropout(0.2))\n",
    "\n",
    "model.add(LSTM(units =60 , activation = 'relu', return_sequences = True,))\n",
    "model.add(Dropout(0.3))\n",
    "\n",
    "model.add(LSTM(units =80, activation = 'relu', return_sequences = True,))\n",
    "model.add(Dropout(0.4))\n",
    "\n",
    "model.add(LSTM(units =120, activation = 'relu'))\n",
    "model.add(Dropout(0.5))\n",
    "\n",
    "model.add(Dense(units = 1))\n",
    "#model.summary()\n",
    "#model.compile(optimizer = 'adam', loss = 'mean_squared_error')\n",
    "#model.fit(x_train, y_train, epochs = 50)\n",
    "#model.save('keras_model.h5')\n",
    "past_100_days = D_training.tail(100)\n",
    "final_df = past_100_days.append(D_testing, ignore_index=True)\n",
    "\n",
    "input_data = scaler.fit_transform(final_df)\n",
    "x_test = []\n",
    "y_test = []\n",
    "\n",
    "for i in range(100, input_data.shape[0]):\n",
    "    x_test.append(input_data[i-100: i])\n",
    "    y_test.append(input_data[i, 0])\n",
    "    \n",
    "x_test, y_test = np.array(x_test), np.array(y_test)\n",
    "\n",
    "#making prediction\n",
    "y_predicted = model.predict(x_test)\n",
    "\n",
    "#scaler.scale_\n",
    "scale_factor = 1/0.02099517\n",
    "y_predicted = y_predicted * scale_factor\n",
    "y_test = y_test * scale_factor\n",
    "plt.figure(figsize = (12,6))\n",
    "plt.plot(y_test, 'b' , label = 'Original Price')\n",
    "plt.plot(y_predicted, 'r', label = 'Predicted Price')\n",
    "plt.xlabel('Time')\n",
    "plt.ylabel('Price')\n",
    "plt.legend()\n",
    "plt.show()"
   ]
  },
  {
   "cell_type": "code",
   "execution_count": 2,
   "id": "09ffe3f1",
   "metadata": {},
   "outputs": [],
   "source": [
    "#Going good\n",
    "import numpy as np\n",
    "import pandas as pd\n",
    "import matplotlib.pyplot as plt\n",
    "import pandas_datareader as data\n",
    "from sklearn.preprocessing import MinMaxScaler\n",
    "from keras.layers import Dense, Dropout, LSTM\n",
    "from keras.models import Sequential\n",
    "#from sklearn.model_selection import train_test_split\n",
    "#Creating variable for starting and ending time of data set\n",
    "start = '2011-01-01'\n",
    "end = '2021-12-31'\n",
    "\n",
    "#scrapping the data from the site\n",
    "df = data.DataReader('TTM','yahoo',start,end)\n",
    "\n",
    "#Reseting the index 0 to onward as it was having the index of dates\n",
    "df = df.reset_index()\n",
    "\n",
    "#Dropping the unwanted column\n",
    "df = df.drop(['Date','Adj Close',], axis = 1)\n",
    "#plt.plot(df.Close)\n",
    "\n",
    "#Calculting the mean value of every 100 days from starting till last date\n",
    "mAvrg100 = df.Close.rolling(100).mean()\n",
    "\n",
    "#ploting figure for only closing range and mean value of evey 100 days\n",
    "#plt.figure(figsize=(12,6))\n",
    "#plt.plot(df.Close)\n",
    "#plt.plot(mAvrg100,'r')\n",
    "mAvrg200 = df.Close.rolling(200).mean()\n",
    "#plt.figure(figsize = (12,6))\n",
    "#plt.plot(df.Close)\n",
    "#plt.plot(mAvrg100,'r')\n",
    "#plt.plot(mAvrg200,'g')\n",
    "\n",
    "#spliting data into training and testing\n",
    "D_training = pd.DataFrame(df['Close'][0:int(len(df)*0.70)])\n",
    "D_testing = pd.DataFrame(df['Close'][int(len(df)*0.70):int(len(df))])\n",
    "#D_training,D_testing=train_test_split(df,test_size=0.3,random_state=0)\n",
    "\n",
    "#using MinMaxScaler to shrink the data into a given range\n",
    "scaler = MinMaxScaler(feature_range=(0,1))\n",
    "D_training_array = scaler.fit_transform(D_training)\n",
    "D_training_array\n",
    "\n",
    "#Predict the upcoming value based on previous or historical data\n",
    "x_train = []\n",
    "y_train = []\n",
    "for i in range(100,D_training_array.shape[0]):\n",
    "    x_train.append(D_training_array[i-100: i])\n",
    "    y_train.append(D_training_array[i, 0])\n",
    "\n",
    "x_train,y_train = np.array(x_train), np.array(y_train)\n",
    "model = Sequential()\n",
    "model.add(LSTM(units =50, activation = 'relu', return_sequences = True, input_shape = (x_train.shape[1], 1)))\n",
    "model.add(Dropout(0.2))\n",
    "\n",
    "model.add(LSTM(units =60 , activation = 'relu', return_sequences = True,))\n",
    "model.add(Dropout(0.3))\n",
    "\n",
    "model.add(LSTM(units =80, activation = 'relu', return_sequences = True,))\n",
    "model.add(Dropout(0.4))\n",
    "\n",
    "model.add(LSTM(units =120, activation = 'relu'))\n",
    "model.add(Dropout(0.5))\n",
    "\n",
    "model.add(Dense(units = 1))"
   ]
  },
  {
   "cell_type": "code",
   "execution_count": 3,
   "id": "474f32e6",
   "metadata": {},
   "outputs": [
    {
     "name": "stdout",
     "output_type": "stream",
     "text": [
      "Model: \"sequential_1\"\n",
      "_________________________________________________________________\n",
      " Layer (type)                Output Shape              Param #   \n",
      "=================================================================\n",
      " lstm_4 (LSTM)               (None, 100, 50)           10400     \n",
      "                                                                 \n",
      " dropout_4 (Dropout)         (None, 100, 50)           0         \n",
      "                                                                 \n",
      " lstm_5 (LSTM)               (None, 100, 60)           26640     \n",
      "                                                                 \n",
      " dropout_5 (Dropout)         (None, 100, 60)           0         \n",
      "                                                                 \n",
      " lstm_6 (LSTM)               (None, 100, 80)           45120     \n",
      "                                                                 \n",
      " dropout_6 (Dropout)         (None, 100, 80)           0         \n",
      "                                                                 \n",
      " lstm_7 (LSTM)               (None, 120)               96480     \n",
      "                                                                 \n",
      " dropout_7 (Dropout)         (None, 120)               0         \n",
      "                                                                 \n",
      " dense_1 (Dense)             (None, 1)                 121       \n",
      "                                                                 \n",
      "=================================================================\n",
      "Total params: 178,761\n",
      "Trainable params: 178,761\n",
      "Non-trainable params: 0\n",
      "_________________________________________________________________\n"
     ]
    }
   ],
   "source": [
    "model.summary()"
   ]
  },
  {
   "cell_type": "code",
   "execution_count": 4,
   "id": "aa804259",
   "metadata": {},
   "outputs": [
    {
     "name": "stdout",
     "output_type": "stream",
     "text": [
      "Epoch 1/50\n",
      "58/58 [==============================] - 11s 127ms/step - loss: 0.0352\n",
      "Epoch 2/50\n",
      "58/58 [==============================] - 8s 142ms/step - loss: 0.0110\n",
      "Epoch 3/50\n",
      "58/58 [==============================] - 9s 146ms/step - loss: 0.0091\n",
      "Epoch 4/50\n",
      "58/58 [==============================] - 7s 113ms/step - loss: 0.0078\n",
      "Epoch 5/50\n",
      "58/58 [==============================] - 7s 119ms/step - loss: 0.0076\n",
      "Epoch 6/50\n",
      "58/58 [==============================] - 7s 129ms/step - loss: 0.0072\n",
      "Epoch 7/50\n",
      "58/58 [==============================] - 8s 136ms/step - loss: 0.0065\n",
      "Epoch 8/50\n",
      "58/58 [==============================] - 8s 133ms/step - loss: 0.0072\n",
      "Epoch 9/50\n",
      "58/58 [==============================] - 9s 149ms/step - loss: 0.0063\n",
      "Epoch 10/50\n",
      "58/58 [==============================] - 8s 143ms/step - loss: 0.0061\n",
      "Epoch 11/50\n",
      "58/58 [==============================] - 8s 134ms/step - loss: 0.0063\n",
      "Epoch 12/50\n",
      "58/58 [==============================] - 7s 121ms/step - loss: 0.0053\n",
      "Epoch 13/50\n",
      "58/58 [==============================] - 7s 121ms/step - loss: 0.0051\n",
      "Epoch 14/50\n",
      "58/58 [==============================] - 7s 121ms/step - loss: 0.0049\n",
      "Epoch 15/50\n",
      "58/58 [==============================] - 7s 123ms/step - loss: 0.0056\n",
      "Epoch 16/50\n",
      "58/58 [==============================] - 7s 126ms/step - loss: 0.0047\n",
      "Epoch 17/50\n",
      "58/58 [==============================] - 7s 125ms/step - loss: 0.0048\n",
      "Epoch 18/50\n",
      "58/58 [==============================] - 7s 121ms/step - loss: 0.0045\n",
      "Epoch 19/50\n",
      "58/58 [==============================] - 7s 122ms/step - loss: 0.0047\n",
      "Epoch 20/50\n",
      "58/58 [==============================] - 7s 122ms/step - loss: 0.0044\n",
      "Epoch 21/50\n",
      "58/58 [==============================] - 7s 123ms/step - loss: 0.0042\n",
      "Epoch 22/50\n",
      "58/58 [==============================] - 7s 123ms/step - loss: 0.0039\n",
      "Epoch 23/50\n",
      "58/58 [==============================] - 7s 121ms/step - loss: 0.0038\n",
      "Epoch 24/50\n",
      "58/58 [==============================] - 7s 121ms/step - loss: 0.0041\n",
      "Epoch 25/50\n",
      "58/58 [==============================] - 7s 122ms/step - loss: 0.0042\n",
      "Epoch 26/50\n",
      "58/58 [==============================] - 7s 123ms/step - loss: 0.0039\n",
      "Epoch 27/50\n",
      "58/58 [==============================] - 7s 124ms/step - loss: 0.0038\n",
      "Epoch 28/50\n",
      "58/58 [==============================] - 7s 122ms/step - loss: 0.0038\n",
      "Epoch 29/50\n",
      "58/58 [==============================] - 7s 122ms/step - loss: 0.0037\n",
      "Epoch 30/50\n",
      "58/58 [==============================] - 7s 124ms/step - loss: 0.0034\n",
      "Epoch 31/50\n",
      "58/58 [==============================] - 7s 123ms/step - loss: 0.0033\n",
      "Epoch 32/50\n",
      "58/58 [==============================] - 7s 123ms/step - loss: 0.0034\n",
      "Epoch 33/50\n",
      "58/58 [==============================] - 7s 125ms/step - loss: 0.0032\n",
      "Epoch 34/50\n",
      "58/58 [==============================] - 7s 122ms/step - loss: 0.0033\n",
      "Epoch 35/50\n",
      "58/58 [==============================] - 7s 123ms/step - loss: 0.0031\n",
      "Epoch 36/50\n",
      "58/58 [==============================] - 7s 124ms/step - loss: 0.0029\n",
      "Epoch 37/50\n",
      "58/58 [==============================] - 7s 125ms/step - loss: 0.0027\n",
      "Epoch 38/50\n",
      "58/58 [==============================] - 7s 124ms/step - loss: 0.0029\n",
      "Epoch 39/50\n",
      "58/58 [==============================] - 7s 125ms/step - loss: 0.0031\n",
      "Epoch 40/50\n",
      "58/58 [==============================] - 7s 127ms/step - loss: 0.0028\n",
      "Epoch 41/50\n",
      "58/58 [==============================] - 7s 126ms/step - loss: 0.0028\n",
      "Epoch 42/50\n",
      "58/58 [==============================] - 7s 125ms/step - loss: 0.0028\n",
      "Epoch 43/50\n",
      "58/58 [==============================] - 7s 125ms/step - loss: 0.0029\n",
      "Epoch 44/50\n",
      "58/58 [==============================] - 7s 125ms/step - loss: 0.0026\n",
      "Epoch 45/50\n",
      "58/58 [==============================] - 7s 123ms/step - loss: 0.0027\n",
      "Epoch 46/50\n",
      "58/58 [==============================] - 8s 133ms/step - loss: 0.0027\n",
      "Epoch 47/50\n",
      "58/58 [==============================] - 7s 128ms/step - loss: 0.0024\n",
      "Epoch 48/50\n",
      "58/58 [==============================] - 7s 125ms/step - loss: 0.0028\n",
      "Epoch 49/50\n",
      "58/58 [==============================] - 7s 125ms/step - loss: 0.0026\n",
      "Epoch 50/50\n",
      "58/58 [==============================] - 7s 123ms/step - loss: 0.0024\n"
     ]
    },
    {
     "data": {
      "text/plain": [
       "<keras.callbacks.History at 0x26dc4acce20>"
      ]
     },
     "execution_count": 4,
     "metadata": {},
     "output_type": "execute_result"
    }
   ],
   "source": [
    "model.compile(optimizer = 'adam', loss = 'mean_squared_error')\n",
    "model.fit(x_train, y_train, epochs = 50)"
   ]
  },
  {
   "cell_type": "code",
   "execution_count": 5,
   "id": "99403f03",
   "metadata": {},
   "outputs": [],
   "source": [
    "model.save('keras_model.h5')"
   ]
  },
  {
   "cell_type": "code",
   "execution_count": 6,
   "id": "28ae931a",
   "metadata": {},
   "outputs": [
    {
     "data": {
      "text/html": [
       "<div>\n",
       "<style scoped>\n",
       "    .dataframe tbody tr th:only-of-type {\n",
       "        vertical-align: middle;\n",
       "    }\n",
       "\n",
       "    .dataframe tbody tr th {\n",
       "        vertical-align: top;\n",
       "    }\n",
       "\n",
       "    .dataframe thead th {\n",
       "        text-align: right;\n",
       "    }\n",
       "</style>\n",
       "<table border=\"1\" class=\"dataframe\">\n",
       "  <thead>\n",
       "    <tr style=\"text-align: right;\">\n",
       "      <th></th>\n",
       "      <th>Close</th>\n",
       "    </tr>\n",
       "  </thead>\n",
       "  <tbody>\n",
       "    <tr>\n",
       "      <th>1938</th>\n",
       "      <td>18.250000</td>\n",
       "    </tr>\n",
       "    <tr>\n",
       "      <th>1939</th>\n",
       "      <td>18.040001</td>\n",
       "    </tr>\n",
       "    <tr>\n",
       "      <th>1940</th>\n",
       "      <td>17.670000</td>\n",
       "    </tr>\n",
       "    <tr>\n",
       "      <th>1941</th>\n",
       "      <td>17.510000</td>\n",
       "    </tr>\n",
       "    <tr>\n",
       "      <th>1942</th>\n",
       "      <td>17.820000</td>\n",
       "    </tr>\n",
       "  </tbody>\n",
       "</table>\n",
       "</div>"
      ],
      "text/plain": [
       "          Close\n",
       "1938  18.250000\n",
       "1939  18.040001\n",
       "1940  17.670000\n",
       "1941  17.510000\n",
       "1942  17.820000"
      ]
     },
     "execution_count": 6,
     "metadata": {},
     "output_type": "execute_result"
    }
   ],
   "source": [
    "D_testing.head()"
   ]
  },
  {
   "cell_type": "code",
   "execution_count": null,
   "id": "20fa785a",
   "metadata": {},
   "outputs": [],
   "source": [
    "past_100_days = D_training.tail(100)\n",
    "final_df = past_100_days.append(D_testing, ignore_index=True)\n",
    "final_df.head()"
   ]
  },
  {
   "cell_type": "code",
   "execution_count": 8,
   "id": "00ad3f89",
   "metadata": {},
   "outputs": [
    {
     "data": {
      "text/plain": [
       "(932, 1)"
      ]
     },
     "execution_count": 8,
     "metadata": {},
     "output_type": "execute_result"
    }
   ],
   "source": [
    "final_df.shape"
   ]
  },
  {
   "cell_type": "code",
   "execution_count": 2,
   "id": "bc43e0dd",
   "metadata": {},
   "outputs": [
    {
     "ename": "NameError",
     "evalue": "name 'scaler' is not defined",
     "output_type": "error",
     "traceback": [
      "\u001b[1;31m---------------------------------------------------------------------------\u001b[0m",
      "\u001b[1;31mNameError\u001b[0m                                 Traceback (most recent call last)",
      "Cell \u001b[1;32mIn [2], line 1\u001b[0m\n\u001b[1;32m----> 1\u001b[0m input_data \u001b[38;5;241m=\u001b[39m scaler\u001b[38;5;241m.\u001b[39mfit_transform(final_df)\n\u001b[0;32m      2\u001b[0m x_test \u001b[38;5;241m=\u001b[39m []\n\u001b[0;32m      3\u001b[0m y_test \u001b[38;5;241m=\u001b[39m []\n",
      "\u001b[1;31mNameError\u001b[0m: name 'scaler' is not defined"
     ]
    }
   ],
   "source": [
    "input_data = scaler.fit_transform(final_df)\n",
    "x_test = []\n",
    "y_test = []\n",
    "\n",
    "for i in range(100, input_data.shape[0]):\n",
    "    x_test.append(input_data[i-100: i])\n",
    "    y_test.append(input_data[i, 0])\n",
    "x_test, y_test = np.array(x_test), np.array(y_test)"
   ]
  },
  {
   "cell_type": "code",
   "execution_count": 1,
   "id": "34c7afb5",
   "metadata": {},
   "outputs": [
    {
     "ename": "NameError",
     "evalue": "name 'model' is not defined",
     "output_type": "error",
     "traceback": [
      "\u001b[1;31m---------------------------------------------------------------------------\u001b[0m",
      "\u001b[1;31mNameError\u001b[0m                                 Traceback (most recent call last)",
      "Cell \u001b[1;32mIn [1], line 1\u001b[0m\n\u001b[1;32m----> 1\u001b[0m y_predicted \u001b[38;5;241m=\u001b[39m model\u001b[38;5;241m.\u001b[39mpredict(x_test)\n\u001b[0;32m      3\u001b[0m \u001b[38;5;66;03m#scaler.scale_\u001b[39;00m\n\u001b[0;32m      4\u001b[0m scale_factor \u001b[38;5;241m=\u001b[39m \u001b[38;5;241m1\u001b[39m\u001b[38;5;241m/\u001b[39m\u001b[38;5;241m0.02099517\u001b[39m\n",
      "\u001b[1;31mNameError\u001b[0m: name 'model' is not defined"
     ]
    }
   ],
   "source": [
    "y_predicted = model.predict(x_test)\n",
    "\n",
    "#scaler.scale_\n",
    "scale_factor = 1/0.02099517\n",
    "y_predicted = y_predicted * scale_factor\n",
    "y_test = y_test * scale_factor\n",
    "plt.figure(figsize = (12,6))\n",
    "plt.plot(y_test, 'b' , label = 'Original Price')\n",
    "plt.plot(y_predicted, 'r', label = 'Predicted Price')\n",
    "plt.xlabel('Time')\n",
    "plt.ylabel('Price')\n",
    "plt.legend()\n",
    "plt.show()"
   ]
  },
  {
   "cell_type": "code",
   "execution_count": 2,
   "id": "0577abd3",
   "metadata": {},
   "outputs": [],
   "source": [
    "import os\n",
    "current_path = os.getcwd()\n"
   ]
  },
  {
   "cell_type": "code",
   "execution_count": 3,
   "id": "791d1ad4",
   "metadata": {},
   "outputs": [
    {
     "data": {
      "text/plain": [
       "'C:\\\\Users\\\\masam\\\\Python Programs'"
      ]
     },
     "execution_count": 3,
     "metadata": {},
     "output_type": "execute_result"
    }
   ],
   "source": [
    "pwd"
   ]
  },
  {
   "cell_type": "code",
   "execution_count": null,
   "id": "1399375f",
   "metadata": {},
   "outputs": [],
   "source": []
  }
 ],
 "metadata": {
  "kernelspec": {
   "display_name": "Python 3 (ipykernel)",
   "language": "python",
   "name": "python3"
  },
  "language_info": {
   "codemirror_mode": {
    "name": "ipython",
    "version": 3
   },
   "file_extension": ".py",
   "mimetype": "text/x-python",
   "name": "python",
   "nbconvert_exporter": "python",
   "pygments_lexer": "ipython3",
   "version": "3.10.5"
  }
 },
 "nbformat": 4,
 "nbformat_minor": 5
}
